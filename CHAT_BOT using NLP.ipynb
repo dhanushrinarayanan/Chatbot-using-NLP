{
  "nbformat": 4,
  "nbformat_minor": 0,
  "metadata": {
    "colab": {
      "provenance": []
    },
    "kernelspec": {
      "name": "python3",
      "display_name": "Python 3"
    },
    "language_info": {
      "name": "python"
    }
  },
  "cells": [
    {
      "cell_type": "code",
      "source": [
        "import nltk\n",
        "nltk.download('punkt')"
      ],
      "metadata": {
        "colab": {
          "base_uri": "https://localhost:8080/"
        },
        "id": "oiMECo0VgPBz",
        "outputId": "cee63292-fd62-4097-fdea-454d82c206fb"
      },
      "execution_count": null,
      "outputs": [
        {
          "output_type": "stream",
          "name": "stderr",
          "text": [
            "[nltk_data] Downloading package punkt to /root/nltk_data...\n",
            "[nltk_data]   Package punkt is already up-to-date!\n"
          ]
        },
        {
          "output_type": "execute_result",
          "data": {
            "text/plain": [
              "True"
            ]
          },
          "metadata": {},
          "execution_count": 5
        }
      ]
    },
    {
      "cell_type": "code",
      "source": [
        "import nltk\n",
        "from nltk.chat.util import Chat, reflections\n",
        "\n",
        "# Define pairs of patterns and responses for the chatbot\n",
        "pairs = [\n",
        "    [\n",
        "        r\"hi|hello|hey\",\n",
        "        [\"Hello! How can I assist you today?\"]\n",
        "    ],\n",
        "    [\n",
        "        r\"(.*)interested in learning about natural language processing\",\n",
        "        [\"Great! Natural language processing, or NLP, is a field of artificial intelligence that focuses on the interaction between computers and humans through natural language.\"]\n",
        "    ],\n",
        "    [\n",
        "        r\"how does nlp work ?\",\n",
        "        [\"NLP involves various techniques such as tokenization, parsing, and semantic analysis to understand and process human language. It enables computers to understand, interpret, and generate human language in a meaningful way.\"]\n",
        "    ],\n",
        "    [\n",
        "        r\"can you give me an example of how nlp is used ?\",\n",
        "        [\"One common application of NLP is sentiment analysis, where it analyzes text data to determine the sentiment expressed, such as positive, negative, or neutral. This is often used in social media monitoring, customer feedback analysis, and market research.\"]\n",
        "    ],\n",
        "    [\n",
        "        r\"what are some other applications of nlp ?\",\n",
        "        [\"NLP is used in machine translation, chatbots, information extraction, text summarization, and more. It's a versatile field with applications across various industries, including healthcare, finance, and education.\"]\n",
        "    ],\n",
        "    [\n",
        "        r\"where can I start learning about nlp ?\",\n",
        "        [\"There are many resources available to learn NLP, including online courses, books, and tutorials. I recommend starting with introductory courses on platforms like Coursera, Udemy, or edX, and exploring NLP libraries such as NLTK (Natural Language Toolkit) and spaCy for hands-on practice.\"]\n",
        "    ],\n",
        "    [\n",
        "        r\"thank you|thanks\",\n",
        "        [\"You're welcome! If you have any more questions about NLP or anything else, feel free to ask. I'm here to help!\"]\n",
        "    ],\n",
        "    [\n",
        "        r\"quit|bye|exit\",\n",
        "        [\"Goodbye!\", \"Bye, take care!\", \"See you later!\"]\n",
        "    ],\n",
        "    [\n",
        "        r\"(.*)\",\n",
        "        [\"I'm sorry, I didn't understand that. Can you please repeat?\"]\n",
        "    ]\n",
        "]\n",
        "\n",
        "# Create a Chat instance\n",
        "chatbot = Chat(pairs, reflections)\n",
        "\n",
        "# Define a function to start the conversation\n",
        "def virtual_assistant():\n",
        "    print(\"Welcome to the Virtual Assistant. Type 'quit' to exit.\")\n",
        "    while True:\n",
        "        user_input = input(\"You: \")\n",
        "        response = chatbot.respond(user_input)\n",
        "        print(\"Assistant:\", response)\n",
        "        if user_input.lower() == 'quit':\n",
        "            break\n",
        "\n",
        "# Start the conversation\n",
        "virtual_assistant()\n"
      ],
      "metadata": {
        "id": "S79tVLODfjhM",
        "colab": {
          "base_uri": "https://localhost:8080/"
        },
        "outputId": "4131068a-51e3-4b1e-af69-81d99dd571e0"
      },
      "execution_count": null,
      "outputs": [
        {
          "output_type": "stream",
          "name": "stdout",
          "text": [
            "Welcome to the Virtual Assistant. Type 'quit' to exit.\n",
            "You: hi\n",
            "Assistant: Hello! How can I assist you today?\n",
            "You: interested in learning about natural language processing\n",
            "Assistant: Great! Natural language processing, or NLP, is a field of artificial intelligence that focuses on the interaction between computers and humans through natural language.\n",
            "You: how does nlp work ?\n",
            "Assistant: NLP involves various techniques such as tokenization, parsing, and semantic analysis to understand and process human language. It enables computers to understand, interpret, and generate human language in a meaningful way.\n",
            "You: can you give me an example of how nlp is used ?\n",
            "Assistant: One common application of NLP is sentiment analysis, where it analyzes text data to determine the sentiment expressed, such as positive, negative, or neutral. This is often used in social media monitoring, customer feedback analysis, and market research.\n",
            "You: what are some other applications of nlp ?\n",
            "Assistant: NLP is used in machine translation, chatbots, information extraction, text summarization, and more. It's a versatile field with applications across various industries, including healthcare, finance, and education.\n",
            "You: quit\n",
            "Assistant: Bye, take care!\n"
          ]
        }
      ]
    },
    {
      "cell_type": "code",
      "source": [],
      "metadata": {
        "id": "ffRoFlhlXgEM"
      },
      "execution_count": null,
      "outputs": []
    }
  ]
}